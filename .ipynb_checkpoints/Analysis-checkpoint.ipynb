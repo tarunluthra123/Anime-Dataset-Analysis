{
 "cells": [
  {
   "cell_type": "code",
   "execution_count": null,
   "metadata": {},
   "outputs": [],
   "source": [
    "library(needs)"
   ]
  },
  {
   "cell_type": "code",
   "execution_count": null,
   "metadata": {},
   "outputs": [],
   "source": [
    "needs(tidyverse,\n",
    "      plotly,\n",
    "      formattable)"
   ]
  },
  {
   "cell_type": "markdown",
   "metadata": {},
   "source": [
    "### Data\n",
    "Let’s take a look at the data. We have two files:\n",
    "- anime.csv: This refers to the shows.\n",
    "- rating.csv: This refers to the 76,000 user ratings."
   ]
  },
  {
   "cell_type": "code",
   "execution_count": null,
   "metadata": {},
   "outputs": [],
   "source": [
    "anime <- read_csv('./anime.csv')"
   ]
  },
  {
   "cell_type": "code",
   "execution_count": null,
   "metadata": {},
   "outputs": [],
   "source": [
    "anime"
   ]
  },
  {
   "cell_type": "code",
   "execution_count": null,
   "metadata": {},
   "outputs": [],
   "source": [
    "anime %>% \n",
    "  head(10)"
   ]
  },
  {
   "cell_type": "code",
   "execution_count": null,
   "metadata": {},
   "outputs": [],
   "source": [
    "rating <- read_csv(\"./rating.csv\")"
   ]
  },
  {
   "cell_type": "code",
   "execution_count": null,
   "metadata": {},
   "outputs": [],
   "source": [
    "rating %>% \n",
    "  head(10)"
   ]
  },
  {
   "cell_type": "markdown",
   "metadata": {},
   "source": [
    "Excellent! It looks like anime has an ID and a name; rating has a user_id, an anime_id, and a rating."
   ]
  },
  {
   "cell_type": "markdown",
   "metadata": {},
   "source": [
    "Let’s observe the frequency of rating values."
   ]
  },
  {
   "cell_type": "code",
   "execution_count": null,
   "metadata": {},
   "outputs": [],
   "source": [
    "rating %>% \n",
    "  group_by(rating) %>% \n",
    "  summarise(ratings = n(), people = n_distinct(user_id))"
   ]
  },
  {
   "cell_type": "markdown",
   "metadata": {},
   "source": [
    "It’s interesting that there are so many -1. What does that mean? From the documentation:\n",
    "```\n",
    "(-1 if the user watched it but didn’t assign a rating)\n",
    "```\n",
    "OK, so it’s a NA placeholder. Let’s actually replace that with NA."
   ]
  },
  {
   "cell_type": "code",
   "execution_count": null,
   "metadata": {},
   "outputs": [],
   "source": [
    "rating <- rating %>% mutate(rating = ifelse(rating == -1, NA, rating))\n",
    "rating %>% \n",
    "  count(rating)"
   ]
  },
  {
   "cell_type": "markdown",
   "metadata": {},
   "source": [
    "## Analysis\n",
    "So what are some questions we can ask?\n",
    "- Are ratings consistent across genres?\n",
    "- Are ratings consistent across the number of episodes?\n",
    "- Do more episodes lead to a higher or lower average rating?\n",
    "- How does popularity relate to the number of episodes?\n",
    "- Do individuals rating on the same scale, or different scales?\n",
    "- How many people rate an anime, versus watch it? Does it depend on genre?\n",
    "- Can we identify sequels in the anime table?\n",
    "- How do ratings vary by type (e.g. movie, TV, Special, OVA, etc)\n",
    "\n",
    "Let's answer these one by one."
   ]
  },
  {
   "cell_type": "markdown",
   "metadata": {},
   "source": [
    "#### How do ratings vary by anime type?"
   ]
  },
  {
   "cell_type": "code",
   "execution_count": null,
   "metadata": {},
   "outputs": [],
   "source": [
    "g <- anime %>% \n",
    "  filter(!is.na(rating)) %>% \n",
    "  ggplot(aes(rating, group = type)) +  geom_density(aes(fill = type), alpha = 0.4) +   xlim(0, 10)\n",
    "\n",
    "ggplotly(g)"
   ]
  },
  {
   "cell_type": "markdown",
   "metadata": {},
   "source": [
    "It looks like there are some real difference by genre! However, it also looks like the “baseline” rating is approximately 6.5. Movies seem to have the highest variance, and also it looks somewhat bimodal. OVAs and Specials seem to have the steepest peak around their average; and TV seems (oddly) to be rated higher than everything else.\n"
   ]
  },
  {
   "cell_type": "code",
   "execution_count": null,
   "metadata": {},
   "outputs": [],
   "source": [
    "anime %>% \n",
    "  group_by(type) %>% \n",
    "  summarise(\n",
    "    average.people = mean(members),\n",
    "    sd.people = sd(members),\n",
    "    average.rating = mean(rating, na.rm = T),\n",
    "    sd.rating = sd(rating, na.rm = T)\n",
    "  ) %>% \n",
    "  formattable()"
   ]
  },
  {
   "cell_type": "markdown",
   "metadata": {},
   "source": [
    "### How many animes do people rate?"
   ]
  },
  {
   "cell_type": "code",
   "execution_count": null,
   "metadata": {},
   "outputs": [],
   "source": [
    "g <- rating %>% \n",
    "  count(user_id) %>% \n",
    "  filter(n < 500) %>% \n",
    "  ggplot(aes(n)) +  geom_density()\n",
    "\n",
    "ggplotly(g)"
   ]
  },
  {
   "cell_type": "markdown",
   "metadata": {},
   "source": [
    "The short answer is: not many!"
   ]
  },
  {
   "cell_type": "markdown",
   "metadata": {},
   "source": [
    "### Are ratings consistent across genres?"
   ]
  },
  {
   "cell_type": "code",
   "execution_count": null,
   "metadata": {},
   "outputs": [],
   "source": [
    "anime %>% \n",
    "  mutate(genre = map(genre, ~ strsplit(.x, \", \") %>% unlist())) %>% \n",
    "  unnest(genre) -> shows_by_genre\n",
    "\n",
    "g <- shows_by_genre %>% \n",
    "  ggplot(aes(rating, group = genre)) +\n",
    "  geom_density(aes(fill = genre), alpha = .4)\n",
    "\n",
    "ggplotly(g)"
   ]
  },
  {
   "cell_type": "markdown",
   "metadata": {},
   "source": [
    "We can say a handful of things –\n",
    "- The Harem genre has a very solid peak around 7.0. I’m tempted to say that if you like harem shows, you don’t really care about the show – you just like the mechanic, and therefore most things gets a solid 7/10.\n",
    "- The Yuri genre has a significantly lower mode, and is also skewed right. Does that mean Yuri watchers are more discrimianting?\n",
    "- Shows in the NA genre are very low rated; presumably, they lack a genre because people don’t care about them.\n",
    "- The Dementia genre is very bad.\n",
    "\n",
    "It’s interesting to play with the chart (deselecting certain genres). The short answer is, though, that “no, ratings are not consistent across genres”."
   ]
  },
  {
   "cell_type": "markdown",
   "metadata": {},
   "source": [
    "## Do people rate consistently?"
   ]
  },
  {
   "cell_type": "code",
   "execution_count": null,
   "metadata": {},
   "outputs": [],
   "source": [
    "g <- rating %>% \n",
    "  group_by(user_id) %>% \n",
    "  summarise(sd = sd(rating)) %>% \n",
    "  ggplot(aes(sd)) +\n",
    "  geom_density()\n",
    "\n",
    "ggplotly(g)"
   ]
  },
  {
   "cell_type": "markdown",
   "metadata": {},
   "source": [
    "It looks like:\n",
    "\n",
    "- Some people have only a single rating (likely the spike at 0)\n",
    "- A lot of people shuffle their ratings 1-2 points.\n",
    "- Some people have huge variance."
   ]
  },
  {
   "cell_type": "markdown",
   "metadata": {},
   "source": [
    "## What about the actual ratings?"
   ]
  },
  {
   "cell_type": "code",
   "execution_count": null,
   "metadata": {},
   "outputs": [],
   "source": [
    "g <- rating %>% \n",
    "  group_by(user_id) %>% \n",
    "  summarise(m = mean(rating)) %>% \n",
    "  ggplot(aes(m)) +\n",
    "  geom_density()\n",
    "\n",
    "ggplotly(g)"
   ]
  },
  {
   "cell_type": "markdown",
   "metadata": {},
   "source": [
    "It looks like:\n",
    "\n",
    "- In general, most people rate the shows they like.\n",
    "- Some people only ratings things 10/10.\n",
    "- Most people rating things, on average, around an 8.0/10.\n"
   ]
  },
  {
   "cell_type": "markdown",
   "metadata": {},
   "source": [
    "### How do ratings vary by number of episodes?\n",
    "Let’s take a look at average number of episodes by genre.\n"
   ]
  },
  {
   "cell_type": "code",
   "execution_count": null,
   "metadata": {},
   "outputs": [],
   "source": [
    "anime %>% \n",
    "  mutate(episodes = as.numeric(episodes)) %>% \n",
    "  filter(!is.na(episodes)) %>% \n",
    "  group_by(type) %>% \n",
    "  summarise(\n",
    "    average.episodes = mean(episodes),\n",
    "    sd.episodes = sd(episodes),\n",
    "    average.rating = mean(rating, na.rm = T),\n",
    "    sd.rating = sd(rating, na.rm = T)\n",
    "  ) %>% \n",
    "  formattable()"
   ]
  },
  {
   "cell_type": "markdown",
   "metadata": {},
   "source": [
    "So – that might encourage us to say (naively) that those TV shows that drag on and on and on and on have lower ratings. But is that really correct? It sounds too simplistic.\n",
    "\n",
    "Let’s take a look."
   ]
  },
  {
   "cell_type": "code",
   "execution_count": null,
   "metadata": {},
   "outputs": [],
   "source": [
    "g <- anime %>% \n",
    "  filter(!is.na(type)) %>% \n",
    "  mutate(episodes = as.numeric(episodes)) %>% \n",
    "  ggplot(aes(episodes, rating)) +\n",
    "  geom_point(aes(color = type)) + \n",
    "  facet_wrap(~ type, scales = \"free_x\")\n",
    "\n",
    "ggplotly(g)"
   ]
  },
  {
   "cell_type": "markdown",
   "metadata": {},
   "source": [
    "So – it doesn’t seem that simple. Instead, it looks like shows with more episoess regress to some kind of mean rating. Doesn’t that make sense?\n",
    "\n",
    "It also suggests that we should do some kind of weighting by number of episodes, or (more realistically) by the number or ratees.\n",
    "\n",
    "Can we estimate the relationship between episodes and ratings?"
   ]
  },
  {
   "cell_type": "markdown",
   "metadata": {},
   "source": [
    "So: It looks like more episodes leads to more members (in a diminishing marginal way). Can we plot that?\n"
   ]
  },
  {
   "cell_type": "code",
   "execution_count": null,
   "metadata": {},
   "outputs": [],
   "source": [
    "g <- anime %>% \n",
    "  filter(!is.na(type)) %>% \n",
    "  ggplot(aes(log(members), log1p(as.numeric(episodes)))) +\n",
    "  geom_point() +\n",
    "  geom_smooth(method = \"lm\") +\n",
    "  facet_wrap(~ type, scales = \"free_y\")\n",
    "\n",
    "ggplotly(g)"
   ]
  },
  {
   "cell_type": "markdown",
   "metadata": {},
   "source": [
    "Well: it seems like there’s something there, but what’s weird is the negative relationship for TV.\n",
    "\n",
    "Let’s try the model again, except flipping the depvar and indvars."
   ]
  },
  {
   "cell_type": "code",
   "execution_count": null,
   "metadata": {},
   "outputs": [],
   "source": [
    "g <- anime %>% \n",
    "  filter(!is.na(type)) %>% \n",
    "  ggplot(aes(log(members), rating)) +\n",
    "  geom_point() +\n",
    "  geom_smooth(method = \"lm\") +\n",
    "  facet_wrap(~ type, scales = \"free_y\")\n",
    "\n",
    "ggplotly(g)"
   ]
  },
  {
   "cell_type": "markdown",
   "metadata": {},
   "source": [
    "So – that guests that the more people who have rated a show, the fewer episodes it has. How does that work?\n",
    "\n",
    "One obvious way would be for there to be a smaller group of “loyalists” – people, who, say, watch beyond the second season. A larger number of people might watch the first season, with many suggesting it’s not for them. However, a small group of people could continue watching – large in absolute terms, but smaller in relative terms."
   ]
  }
 ],
 "metadata": {
  "kernelspec": {
   "display_name": "R",
   "language": "R",
   "name": "ir"
  },
  "language_info": {
   "codemirror_mode": "r",
   "file_extension": ".r",
   "mimetype": "text/x-r-source",
   "name": "R",
   "pygments_lexer": "r",
   "version": "4.0.3"
  }
 },
 "nbformat": 4,
 "nbformat_minor": 4
}
