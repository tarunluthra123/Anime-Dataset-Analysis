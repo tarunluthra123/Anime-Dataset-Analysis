{
 "cells": [
  {
   "cell_type": "code",
   "execution_count": 1,
   "metadata": {},
   "outputs": [
    {
     "name": "stderr",
     "output_type": "stream",
     "text": [
      "\n",
      "Attaching package: 'dplyr'\n",
      "\n",
      "\n",
      "The following objects are masked from 'package:stats':\n",
      "\n",
      "    filter, lag\n",
      "\n",
      "\n",
      "The following objects are masked from 'package:base':\n",
      "\n",
      "    intersect, setdiff, setequal, union\n",
      "\n",
      "\n"
     ]
    }
   ],
   "source": [
    "library(dplyr)"
   ]
  },
  {
   "cell_type": "code",
   "execution_count": 7,
   "metadata": {},
   "outputs": [],
   "source": [
    "anime <- read.csv('anime.csv')"
   ]
  },
  {
   "cell_type": "code",
   "execution_count": 9,
   "metadata": {},
   "outputs": [
    {
     "data": {
      "text/html": [
       "<table class=\"dataframe\">\n",
       "<caption>A data.frame: 1 × 1</caption>\n",
       "<thead>\n",
       "\t<tr><th scope=col>n</th></tr>\n",
       "\t<tr><th scope=col>&lt;int&gt;</th></tr>\n",
       "</thead>\n",
       "<tbody>\n",
       "\t<tr><td>12294</td></tr>\n",
       "</tbody>\n",
       "</table>\n"
      ],
      "text/latex": [
       "A data.frame: 1 × 1\n",
       "\\begin{tabular}{l}\n",
       " n\\\\\n",
       " <int>\\\\\n",
       "\\hline\n",
       "\t 12294\\\\\n",
       "\\end{tabular}\n"
      ],
      "text/markdown": [
       "\n",
       "A data.frame: 1 × 1\n",
       "\n",
       "| n &lt;int&gt; |\n",
       "|---|\n",
       "| 12294 |\n",
       "\n"
      ],
      "text/plain": [
       "  n    \n",
       "1 12294"
      ]
     },
     "metadata": {},
     "output_type": "display_data"
    }
   ],
   "source": [
    "count(anime)"
   ]
  },
  {
   "cell_type": "code",
   "execution_count": 10,
   "metadata": {},
   "outputs": [
    {
     "data": {
      "text/html": [
       "<table class=\"dataframe\">\n",
       "<caption>A data.frame: 6 × 7</caption>\n",
       "<thead>\n",
       "\t<tr><th></th><th scope=col>anime_id</th><th scope=col>name</th><th scope=col>genre</th><th scope=col>type</th><th scope=col>episodes</th><th scope=col>rating</th><th scope=col>members</th></tr>\n",
       "\t<tr><th></th><th scope=col>&lt;int&gt;</th><th scope=col>&lt;chr&gt;</th><th scope=col>&lt;chr&gt;</th><th scope=col>&lt;chr&gt;</th><th scope=col>&lt;chr&gt;</th><th scope=col>&lt;dbl&gt;</th><th scope=col>&lt;int&gt;</th></tr>\n",
       "</thead>\n",
       "<tbody>\n",
       "\t<tr><th scope=row>1</th><td>32281</td><td>Kimi no Na wa.                                           </td><td>Drama, Romance, School, Supernatural                        </td><td>Movie</td><td>1 </td><td>9.37</td><td>200630</td></tr>\n",
       "\t<tr><th scope=row>2</th><td> 5114</td><td>Fullmetal Alchemist: Brotherhood                         </td><td>Action, Adventure, Drama, Fantasy, Magic, Military, Shounen </td><td>TV   </td><td>64</td><td>9.26</td><td>793665</td></tr>\n",
       "\t<tr><th scope=row>3</th><td>28977</td><td>GintamaÂ°                                                </td><td>Action, Comedy, Historical, Parody, Samurai, Sci-Fi, Shounen</td><td>TV   </td><td>51</td><td>9.25</td><td>114262</td></tr>\n",
       "\t<tr><th scope=row>4</th><td> 9253</td><td>Steins;Gate                                              </td><td>Sci-Fi, Thriller                                            </td><td>TV   </td><td>24</td><td>9.17</td><td>673572</td></tr>\n",
       "\t<tr><th scope=row>5</th><td> 9969</td><td><span style=white-space:pre-wrap>Gintama&amp;#039;                                            </span></td><td>Action, Comedy, Historical, Parody, Samurai, Sci-Fi, Shounen</td><td><span style=white-space:pre-wrap>TV   </span></td><td>51</td><td>9.16</td><td>151266</td></tr>\n",
       "\t<tr><th scope=row>6</th><td>32935</td><td>Haikyuu!!: Karasuno Koukou VS Shiratorizawa Gakuen Koukou</td><td>Comedy, Drama, School, Shounen, Sports                      </td><td>TV   </td><td>10</td><td>9.15</td><td> 93351</td></tr>\n",
       "</tbody>\n",
       "</table>\n"
      ],
      "text/latex": [
       "A data.frame: 6 × 7\n",
       "\\begin{tabular}{r|lllllll}\n",
       "  & anime\\_id & name & genre & type & episodes & rating & members\\\\\n",
       "  & <int> & <chr> & <chr> & <chr> & <chr> & <dbl> & <int>\\\\\n",
       "\\hline\n",
       "\t1 & 32281 & Kimi no Na wa.                                            & Drama, Romance, School, Supernatural                         & Movie & 1  & 9.37 & 200630\\\\\n",
       "\t2 &  5114 & Fullmetal Alchemist: Brotherhood                          & Action, Adventure, Drama, Fantasy, Magic, Military, Shounen  & TV    & 64 & 9.26 & 793665\\\\\n",
       "\t3 & 28977 & GintamaÂ°                                                 & Action, Comedy, Historical, Parody, Samurai, Sci-Fi, Shounen & TV    & 51 & 9.25 & 114262\\\\\n",
       "\t4 &  9253 & Steins;Gate                                               & Sci-Fi, Thriller                                             & TV    & 24 & 9.17 & 673572\\\\\n",
       "\t5 &  9969 & Gintama\\&\\#039;                                             & Action, Comedy, Historical, Parody, Samurai, Sci-Fi, Shounen & TV    & 51 & 9.16 & 151266\\\\\n",
       "\t6 & 32935 & Haikyuu!!: Karasuno Koukou VS Shiratorizawa Gakuen Koukou & Comedy, Drama, School, Shounen, Sports                       & TV    & 10 & 9.15 &  93351\\\\\n",
       "\\end{tabular}\n"
      ],
      "text/markdown": [
       "\n",
       "A data.frame: 6 × 7\n",
       "\n",
       "| <!--/--> | anime_id &lt;int&gt; | name &lt;chr&gt; | genre &lt;chr&gt; | type &lt;chr&gt; | episodes &lt;chr&gt; | rating &lt;dbl&gt; | members &lt;int&gt; |\n",
       "|---|---|---|---|---|---|---|---|\n",
       "| 1 | 32281 | Kimi no Na wa.                                            | Drama, Romance, School, Supernatural                         | Movie | 1  | 9.37 | 200630 |\n",
       "| 2 |  5114 | Fullmetal Alchemist: Brotherhood                          | Action, Adventure, Drama, Fantasy, Magic, Military, Shounen  | TV    | 64 | 9.26 | 793665 |\n",
       "| 3 | 28977 | GintamaÂ°                                                 | Action, Comedy, Historical, Parody, Samurai, Sci-Fi, Shounen | TV    | 51 | 9.25 | 114262 |\n",
       "| 4 |  9253 | Steins;Gate                                               | Sci-Fi, Thriller                                             | TV    | 24 | 9.17 | 673572 |\n",
       "| 5 |  9969 | Gintama&amp;#039;                                             | Action, Comedy, Historical, Parody, Samurai, Sci-Fi, Shounen | TV    | 51 | 9.16 | 151266 |\n",
       "| 6 | 32935 | Haikyuu!!: Karasuno Koukou VS Shiratorizawa Gakuen Koukou | Comedy, Drama, School, Shounen, Sports                       | TV    | 10 | 9.15 |  93351 |\n",
       "\n"
      ],
      "text/plain": [
       "  anime_id name                                                     \n",
       "1 32281    Kimi no Na wa.                                           \n",
       "2  5114    Fullmetal Alchemist: Brotherhood                         \n",
       "3 28977    GintamaÂ°                                                \n",
       "4  9253    Steins;Gate                                              \n",
       "5  9969    Gintama&#039;                                            \n",
       "6 32935    Haikyuu!!: Karasuno Koukou VS Shiratorizawa Gakuen Koukou\n",
       "  genre                                                        type  episodes\n",
       "1 Drama, Romance, School, Supernatural                         Movie 1       \n",
       "2 Action, Adventure, Drama, Fantasy, Magic, Military, Shounen  TV    64      \n",
       "3 Action, Comedy, Historical, Parody, Samurai, Sci-Fi, Shounen TV    51      \n",
       "4 Sci-Fi, Thriller                                             TV    24      \n",
       "5 Action, Comedy, Historical, Parody, Samurai, Sci-Fi, Shounen TV    51      \n",
       "6 Comedy, Drama, School, Shounen, Sports                       TV    10      \n",
       "  rating members\n",
       "1 9.37   200630 \n",
       "2 9.26   793665 \n",
       "3 9.25   114262 \n",
       "4 9.17   673572 \n",
       "5 9.16   151266 \n",
       "6 9.15    93351 "
      ]
     },
     "metadata": {},
     "output_type": "display_data"
    }
   ],
   "source": [
    "head(anime)"
   ]
  },
  {
   "cell_type": "code",
   "execution_count": 12,
   "metadata": {},
   "outputs": [],
   "source": [
    "tv_anime <- filter(anime, type=='TV')"
   ]
  },
  {
   "cell_type": "code",
   "execution_count": 44,
   "metadata": {},
   "outputs": [],
   "source": [
    "tv_anime <- select(tv_anime, anime_id, name, genre, type, episodes, rating)"
   ]
  },
  {
   "cell_type": "code",
   "execution_count": 45,
   "metadata": {},
   "outputs": [
    {
     "data": {
      "text/html": [
       "<table class=\"dataframe\">\n",
       "<caption>A data.frame: 6 × 6</caption>\n",
       "<thead>\n",
       "\t<tr><th></th><th scope=col>anime_id</th><th scope=col>name</th><th scope=col>genre</th><th scope=col>type</th><th scope=col>episodes</th><th scope=col>rating</th></tr>\n",
       "\t<tr><th></th><th scope=col>&lt;int&gt;</th><th scope=col>&lt;chr&gt;</th><th scope=col>&lt;chr&gt;</th><th scope=col>&lt;chr&gt;</th><th scope=col>&lt;chr&gt;</th><th scope=col>&lt;dbl&gt;</th></tr>\n",
       "</thead>\n",
       "<tbody>\n",
       "\t<tr><th scope=row>1</th><td> 5114</td><td>Fullmetal Alchemist: Brotherhood                         </td><td>Action, Adventure, Drama, Fantasy, Magic, Military, Shounen </td><td>TV</td><td>64 </td><td>9.26</td></tr>\n",
       "\t<tr><th scope=row>2</th><td>28977</td><td>GintamaÂ°                                                </td><td>Action, Comedy, Historical, Parody, Samurai, Sci-Fi, Shounen</td><td>TV</td><td>51 </td><td>9.25</td></tr>\n",
       "\t<tr><th scope=row>3</th><td> 9253</td><td>Steins;Gate                                              </td><td>Sci-Fi, Thriller                                            </td><td>TV</td><td>24 </td><td>9.17</td></tr>\n",
       "\t<tr><th scope=row>4</th><td> 9969</td><td><span style=white-space:pre-wrap>Gintama&amp;#039;                                            </span></td><td>Action, Comedy, Historical, Parody, Samurai, Sci-Fi, Shounen</td><td>TV</td><td>51 </td><td>9.16</td></tr>\n",
       "\t<tr><th scope=row>5</th><td>32935</td><td>Haikyuu!!: Karasuno Koukou VS Shiratorizawa Gakuen Koukou</td><td>Comedy, Drama, School, Shounen, Sports                      </td><td>TV</td><td>10 </td><td>9.15</td></tr>\n",
       "\t<tr><th scope=row>6</th><td>11061</td><td>Hunter x Hunter (2011)                                   </td><td>Action, Adventure, Shounen, Super Power                     </td><td>TV</td><td>148</td><td>9.13</td></tr>\n",
       "</tbody>\n",
       "</table>\n"
      ],
      "text/latex": [
       "A data.frame: 6 × 6\n",
       "\\begin{tabular}{r|llllll}\n",
       "  & anime\\_id & name & genre & type & episodes & rating\\\\\n",
       "  & <int> & <chr> & <chr> & <chr> & <chr> & <dbl>\\\\\n",
       "\\hline\n",
       "\t1 &  5114 & Fullmetal Alchemist: Brotherhood                          & Action, Adventure, Drama, Fantasy, Magic, Military, Shounen  & TV & 64  & 9.26\\\\\n",
       "\t2 & 28977 & GintamaÂ°                                                 & Action, Comedy, Historical, Parody, Samurai, Sci-Fi, Shounen & TV & 51  & 9.25\\\\\n",
       "\t3 &  9253 & Steins;Gate                                               & Sci-Fi, Thriller                                             & TV & 24  & 9.17\\\\\n",
       "\t4 &  9969 & Gintama\\&\\#039;                                             & Action, Comedy, Historical, Parody, Samurai, Sci-Fi, Shounen & TV & 51  & 9.16\\\\\n",
       "\t5 & 32935 & Haikyuu!!: Karasuno Koukou VS Shiratorizawa Gakuen Koukou & Comedy, Drama, School, Shounen, Sports                       & TV & 10  & 9.15\\\\\n",
       "\t6 & 11061 & Hunter x Hunter (2011)                                    & Action, Adventure, Shounen, Super Power                      & TV & 148 & 9.13\\\\\n",
       "\\end{tabular}\n"
      ],
      "text/markdown": [
       "\n",
       "A data.frame: 6 × 6\n",
       "\n",
       "| <!--/--> | anime_id &lt;int&gt; | name &lt;chr&gt; | genre &lt;chr&gt; | type &lt;chr&gt; | episodes &lt;chr&gt; | rating &lt;dbl&gt; |\n",
       "|---|---|---|---|---|---|---|\n",
       "| 1 |  5114 | Fullmetal Alchemist: Brotherhood                          | Action, Adventure, Drama, Fantasy, Magic, Military, Shounen  | TV | 64  | 9.26 |\n",
       "| 2 | 28977 | GintamaÂ°                                                 | Action, Comedy, Historical, Parody, Samurai, Sci-Fi, Shounen | TV | 51  | 9.25 |\n",
       "| 3 |  9253 | Steins;Gate                                               | Sci-Fi, Thriller                                             | TV | 24  | 9.17 |\n",
       "| 4 |  9969 | Gintama&amp;#039;                                             | Action, Comedy, Historical, Parody, Samurai, Sci-Fi, Shounen | TV | 51  | 9.16 |\n",
       "| 5 | 32935 | Haikyuu!!: Karasuno Koukou VS Shiratorizawa Gakuen Koukou | Comedy, Drama, School, Shounen, Sports                       | TV | 10  | 9.15 |\n",
       "| 6 | 11061 | Hunter x Hunter (2011)                                    | Action, Adventure, Shounen, Super Power                      | TV | 148 | 9.13 |\n",
       "\n"
      ],
      "text/plain": [
       "  anime_id name                                                     \n",
       "1  5114    Fullmetal Alchemist: Brotherhood                         \n",
       "2 28977    GintamaÂ°                                                \n",
       "3  9253    Steins;Gate                                              \n",
       "4  9969    Gintama&#039;                                            \n",
       "5 32935    Haikyuu!!: Karasuno Koukou VS Shiratorizawa Gakuen Koukou\n",
       "6 11061    Hunter x Hunter (2011)                                   \n",
       "  genre                                                        type episodes\n",
       "1 Action, Adventure, Drama, Fantasy, Magic, Military, Shounen  TV   64      \n",
       "2 Action, Comedy, Historical, Parody, Samurai, Sci-Fi, Shounen TV   51      \n",
       "3 Sci-Fi, Thriller                                             TV   24      \n",
       "4 Action, Comedy, Historical, Parody, Samurai, Sci-Fi, Shounen TV   51      \n",
       "5 Comedy, Drama, School, Shounen, Sports                       TV   10      \n",
       "6 Action, Adventure, Shounen, Super Power                      TV   148     \n",
       "  rating\n",
       "1 9.26  \n",
       "2 9.25  \n",
       "3 9.17  \n",
       "4 9.16  \n",
       "5 9.15  \n",
       "6 9.13  "
      ]
     },
     "metadata": {},
     "output_type": "display_data"
    }
   ],
   "source": [
    "head(tv_anime)"
   ]
  },
  {
   "cell_type": "code",
   "execution_count": 46,
   "metadata": {},
   "outputs": [
    {
     "data": {
      "text/html": [
       "<table class=\"dataframe\">\n",
       "<caption>A data.frame: 1 × 1</caption>\n",
       "<thead>\n",
       "\t<tr><th scope=col>n</th></tr>\n",
       "\t<tr><th scope=col>&lt;int&gt;</th></tr>\n",
       "</thead>\n",
       "<tbody>\n",
       "\t<tr><td>3787</td></tr>\n",
       "</tbody>\n",
       "</table>\n"
      ],
      "text/latex": [
       "A data.frame: 1 × 1\n",
       "\\begin{tabular}{l}\n",
       " n\\\\\n",
       " <int>\\\\\n",
       "\\hline\n",
       "\t 3787\\\\\n",
       "\\end{tabular}\n"
      ],
      "text/markdown": [
       "\n",
       "A data.frame: 1 × 1\n",
       "\n",
       "| n &lt;int&gt; |\n",
       "|---|\n",
       "| 3787 |\n",
       "\n"
      ],
      "text/plain": [
       "  n   \n",
       "1 3787"
      ]
     },
     "metadata": {},
     "output_type": "display_data"
    }
   ],
   "source": [
    "count(tv_anime)"
   ]
  },
  {
   "cell_type": "code",
   "execution_count": 29,
   "metadata": {},
   "outputs": [],
   "source": [
    "ratings <- read.csv('rating.csv')"
   ]
  },
  {
   "cell_type": "code",
   "execution_count": 30,
   "metadata": {},
   "outputs": [
    {
     "data": {
      "text/html": [
       "<table class=\"dataframe\">\n",
       "<caption>A data.frame: 6 × 3</caption>\n",
       "<thead>\n",
       "\t<tr><th></th><th scope=col>user_id</th><th scope=col>anime_id</th><th scope=col>rating</th></tr>\n",
       "\t<tr><th></th><th scope=col>&lt;int&gt;</th><th scope=col>&lt;int&gt;</th><th scope=col>&lt;int&gt;</th></tr>\n",
       "</thead>\n",
       "<tbody>\n",
       "\t<tr><th scope=row>1</th><td>1</td><td> 20</td><td>-1</td></tr>\n",
       "\t<tr><th scope=row>2</th><td>1</td><td> 24</td><td>-1</td></tr>\n",
       "\t<tr><th scope=row>3</th><td>1</td><td> 79</td><td>-1</td></tr>\n",
       "\t<tr><th scope=row>4</th><td>1</td><td>226</td><td>-1</td></tr>\n",
       "\t<tr><th scope=row>5</th><td>1</td><td>241</td><td>-1</td></tr>\n",
       "\t<tr><th scope=row>6</th><td>1</td><td>355</td><td>-1</td></tr>\n",
       "</tbody>\n",
       "</table>\n"
      ],
      "text/latex": [
       "A data.frame: 6 × 3\n",
       "\\begin{tabular}{r|lll}\n",
       "  & user\\_id & anime\\_id & rating\\\\\n",
       "  & <int> & <int> & <int>\\\\\n",
       "\\hline\n",
       "\t1 & 1 &  20 & -1\\\\\n",
       "\t2 & 1 &  24 & -1\\\\\n",
       "\t3 & 1 &  79 & -1\\\\\n",
       "\t4 & 1 & 226 & -1\\\\\n",
       "\t5 & 1 & 241 & -1\\\\\n",
       "\t6 & 1 & 355 & -1\\\\\n",
       "\\end{tabular}\n"
      ],
      "text/markdown": [
       "\n",
       "A data.frame: 6 × 3\n",
       "\n",
       "| <!--/--> | user_id &lt;int&gt; | anime_id &lt;int&gt; | rating &lt;int&gt; |\n",
       "|---|---|---|---|\n",
       "| 1 | 1 |  20 | -1 |\n",
       "| 2 | 1 |  24 | -1 |\n",
       "| 3 | 1 |  79 | -1 |\n",
       "| 4 | 1 | 226 | -1 |\n",
       "| 5 | 1 | 241 | -1 |\n",
       "| 6 | 1 | 355 | -1 |\n",
       "\n"
      ],
      "text/plain": [
       "  user_id anime_id rating\n",
       "1 1        20      -1    \n",
       "2 1        24      -1    \n",
       "3 1        79      -1    \n",
       "4 1       226      -1    \n",
       "5 1       241      -1    \n",
       "6 1       355      -1    "
      ]
     },
     "metadata": {},
     "output_type": "display_data"
    }
   ],
   "source": [
    "head(ratings)"
   ]
  },
  {
   "cell_type": "code",
   "execution_count": 33,
   "metadata": {},
   "outputs": [],
   "source": [
    "new_ratings <- filter(ratings, rating!=-1)"
   ]
  },
  {
   "cell_type": "code",
   "execution_count": 34,
   "metadata": {},
   "outputs": [
    {
     "data": {
      "text/html": [
       "<table class=\"dataframe\">\n",
       "<caption>A data.frame: 6337241 × 3</caption>\n",
       "<thead>\n",
       "\t<tr><th scope=col>user_id</th><th scope=col>anime_id</th><th scope=col>rating</th></tr>\n",
       "\t<tr><th scope=col>&lt;int&gt;</th><th scope=col>&lt;int&gt;</th><th scope=col>&lt;int&gt;</th></tr>\n",
       "</thead>\n",
       "<tbody>\n",
       "\t<tr><td>1</td><td> 8074</td><td>10</td></tr>\n",
       "\t<tr><td>1</td><td>11617</td><td>10</td></tr>\n",
       "\t<tr><td>1</td><td>11757</td><td>10</td></tr>\n",
       "\t<tr><td>1</td><td>15451</td><td>10</td></tr>\n",
       "\t<tr><td>2</td><td>11771</td><td>10</td></tr>\n",
       "\t<tr><td>3</td><td>   20</td><td> 8</td></tr>\n",
       "\t<tr><td>3</td><td>  154</td><td> 6</td></tr>\n",
       "\t<tr><td>3</td><td>  170</td><td> 9</td></tr>\n",
       "\t<tr><td>3</td><td>  199</td><td>10</td></tr>\n",
       "\t<tr><td>3</td><td>  225</td><td> 9</td></tr>\n",
       "\t<tr><td>3</td><td>  341</td><td> 6</td></tr>\n",
       "\t<tr><td>3</td><td>  430</td><td> 7</td></tr>\n",
       "\t<tr><td>3</td><td>  527</td><td> 7</td></tr>\n",
       "\t<tr><td>3</td><td>  552</td><td> 7</td></tr>\n",
       "\t<tr><td>3</td><td>  813</td><td>10</td></tr>\n",
       "\t<tr><td>3</td><td> 1119</td><td> 7</td></tr>\n",
       "\t<tr><td>3</td><td> 1121</td><td> 7</td></tr>\n",
       "\t<tr><td>3</td><td> 1122</td><td> 7</td></tr>\n",
       "\t<tr><td>3</td><td> 1132</td><td> 8</td></tr>\n",
       "\t<tr><td>3</td><td> 1292</td><td> 6</td></tr>\n",
       "\t<tr><td>3</td><td> 1313</td><td> 8</td></tr>\n",
       "\t<tr><td>3</td><td> 1526</td><td> 7</td></tr>\n",
       "\t<tr><td>3</td><td> 1535</td><td>10</td></tr>\n",
       "\t<tr><td>3</td><td> 1564</td><td> 7</td></tr>\n",
       "\t<tr><td>3</td><td> 1689</td><td> 8</td></tr>\n",
       "\t<tr><td>3</td><td> 1764</td><td> 6</td></tr>\n",
       "\t<tr><td>3</td><td> 1943</td><td> 8</td></tr>\n",
       "\t<tr><td>3</td><td> 2201</td><td> 7</td></tr>\n",
       "\t<tr><td>3</td><td> 2404</td><td> 7</td></tr>\n",
       "\t<tr><td>3</td><td> 2847</td><td> 7</td></tr>\n",
       "\t<tr><td>...</td><td>...</td><td>...</td></tr>\n",
       "\t<tr><td>73515</td><td>10490</td><td> 6</td></tr>\n",
       "\t<tr><td>73515</td><td>10588</td><td> 9</td></tr>\n",
       "\t<tr><td>73515</td><td>11021</td><td> 8</td></tr>\n",
       "\t<tr><td>73515</td><td>11111</td><td> 8</td></tr>\n",
       "\t<tr><td>73515</td><td>11241</td><td> 8</td></tr>\n",
       "\t<tr><td>73515</td><td>11411</td><td> 5</td></tr>\n",
       "\t<tr><td>73515</td><td>11701</td><td> 7</td></tr>\n",
       "\t<tr><td>73515</td><td>11741</td><td> 9</td></tr>\n",
       "\t<tr><td>73515</td><td>11751</td><td> 6</td></tr>\n",
       "\t<tr><td>73515</td><td>11757</td><td> 9</td></tr>\n",
       "\t<tr><td>73515</td><td>11759</td><td> 8</td></tr>\n",
       "\t<tr><td>73515</td><td>11837</td><td> 9</td></tr>\n",
       "\t<tr><td>73515</td><td>12031</td><td> 8</td></tr>\n",
       "\t<tr><td>73515</td><td>12113</td><td>10</td></tr>\n",
       "\t<tr><td>73515</td><td>12115</td><td>10</td></tr>\n",
       "\t<tr><td>73515</td><td>12293</td><td> 8</td></tr>\n",
       "\t<tr><td>73515</td><td>12413</td><td> 9</td></tr>\n",
       "\t<tr><td>73515</td><td>12445</td><td> 8</td></tr>\n",
       "\t<tr><td>73515</td><td>12461</td><td> 7</td></tr>\n",
       "\t<tr><td>73515</td><td>12967</td><td> 7</td></tr>\n",
       "\t<tr><td>73515</td><td>13161</td><td> 8</td></tr>\n",
       "\t<tr><td>73515</td><td>13331</td><td> 9</td></tr>\n",
       "\t<tr><td>73515</td><td>13599</td><td> 7</td></tr>\n",
       "\t<tr><td>73515</td><td>13659</td><td> 8</td></tr>\n",
       "\t<tr><td>73515</td><td>14345</td><td> 7</td></tr>\n",
       "\t<tr><td>73515</td><td>16512</td><td> 7</td></tr>\n",
       "\t<tr><td>73515</td><td>17187</td><td> 9</td></tr>\n",
       "\t<tr><td>73515</td><td>22145</td><td>10</td></tr>\n",
       "\t<tr><td>73516</td><td>  790</td><td> 9</td></tr>\n",
       "\t<tr><td>73516</td><td> 8074</td><td> 9</td></tr>\n",
       "</tbody>\n",
       "</table>\n"
      ],
      "text/latex": [
       "A data.frame: 6337241 × 3\n",
       "\\begin{tabular}{lll}\n",
       " user\\_id & anime\\_id & rating\\\\\n",
       " <int> & <int> & <int>\\\\\n",
       "\\hline\n",
       "\t 1 &  8074 & 10\\\\\n",
       "\t 1 & 11617 & 10\\\\\n",
       "\t 1 & 11757 & 10\\\\\n",
       "\t 1 & 15451 & 10\\\\\n",
       "\t 2 & 11771 & 10\\\\\n",
       "\t 3 &    20 &  8\\\\\n",
       "\t 3 &   154 &  6\\\\\n",
       "\t 3 &   170 &  9\\\\\n",
       "\t 3 &   199 & 10\\\\\n",
       "\t 3 &   225 &  9\\\\\n",
       "\t 3 &   341 &  6\\\\\n",
       "\t 3 &   430 &  7\\\\\n",
       "\t 3 &   527 &  7\\\\\n",
       "\t 3 &   552 &  7\\\\\n",
       "\t 3 &   813 & 10\\\\\n",
       "\t 3 &  1119 &  7\\\\\n",
       "\t 3 &  1121 &  7\\\\\n",
       "\t 3 &  1122 &  7\\\\\n",
       "\t 3 &  1132 &  8\\\\\n",
       "\t 3 &  1292 &  6\\\\\n",
       "\t 3 &  1313 &  8\\\\\n",
       "\t 3 &  1526 &  7\\\\\n",
       "\t 3 &  1535 & 10\\\\\n",
       "\t 3 &  1564 &  7\\\\\n",
       "\t 3 &  1689 &  8\\\\\n",
       "\t 3 &  1764 &  6\\\\\n",
       "\t 3 &  1943 &  8\\\\\n",
       "\t 3 &  2201 &  7\\\\\n",
       "\t 3 &  2404 &  7\\\\\n",
       "\t 3 &  2847 &  7\\\\\n",
       "\t ... & ... & ...\\\\\n",
       "\t 73515 & 10490 &  6\\\\\n",
       "\t 73515 & 10588 &  9\\\\\n",
       "\t 73515 & 11021 &  8\\\\\n",
       "\t 73515 & 11111 &  8\\\\\n",
       "\t 73515 & 11241 &  8\\\\\n",
       "\t 73515 & 11411 &  5\\\\\n",
       "\t 73515 & 11701 &  7\\\\\n",
       "\t 73515 & 11741 &  9\\\\\n",
       "\t 73515 & 11751 &  6\\\\\n",
       "\t 73515 & 11757 &  9\\\\\n",
       "\t 73515 & 11759 &  8\\\\\n",
       "\t 73515 & 11837 &  9\\\\\n",
       "\t 73515 & 12031 &  8\\\\\n",
       "\t 73515 & 12113 & 10\\\\\n",
       "\t 73515 & 12115 & 10\\\\\n",
       "\t 73515 & 12293 &  8\\\\\n",
       "\t 73515 & 12413 &  9\\\\\n",
       "\t 73515 & 12445 &  8\\\\\n",
       "\t 73515 & 12461 &  7\\\\\n",
       "\t 73515 & 12967 &  7\\\\\n",
       "\t 73515 & 13161 &  8\\\\\n",
       "\t 73515 & 13331 &  9\\\\\n",
       "\t 73515 & 13599 &  7\\\\\n",
       "\t 73515 & 13659 &  8\\\\\n",
       "\t 73515 & 14345 &  7\\\\\n",
       "\t 73515 & 16512 &  7\\\\\n",
       "\t 73515 & 17187 &  9\\\\\n",
       "\t 73515 & 22145 & 10\\\\\n",
       "\t 73516 &   790 &  9\\\\\n",
       "\t 73516 &  8074 &  9\\\\\n",
       "\\end{tabular}\n"
      ],
      "text/markdown": [
       "\n",
       "A data.frame: 6337241 × 3\n",
       "\n",
       "| user_id &lt;int&gt; | anime_id &lt;int&gt; | rating &lt;int&gt; |\n",
       "|---|---|---|\n",
       "| 1 |  8074 | 10 |\n",
       "| 1 | 11617 | 10 |\n",
       "| 1 | 11757 | 10 |\n",
       "| 1 | 15451 | 10 |\n",
       "| 2 | 11771 | 10 |\n",
       "| 3 |    20 |  8 |\n",
       "| 3 |   154 |  6 |\n",
       "| 3 |   170 |  9 |\n",
       "| 3 |   199 | 10 |\n",
       "| 3 |   225 |  9 |\n",
       "| 3 |   341 |  6 |\n",
       "| 3 |   430 |  7 |\n",
       "| 3 |   527 |  7 |\n",
       "| 3 |   552 |  7 |\n",
       "| 3 |   813 | 10 |\n",
       "| 3 |  1119 |  7 |\n",
       "| 3 |  1121 |  7 |\n",
       "| 3 |  1122 |  7 |\n",
       "| 3 |  1132 |  8 |\n",
       "| 3 |  1292 |  6 |\n",
       "| 3 |  1313 |  8 |\n",
       "| 3 |  1526 |  7 |\n",
       "| 3 |  1535 | 10 |\n",
       "| 3 |  1564 |  7 |\n",
       "| 3 |  1689 |  8 |\n",
       "| 3 |  1764 |  6 |\n",
       "| 3 |  1943 |  8 |\n",
       "| 3 |  2201 |  7 |\n",
       "| 3 |  2404 |  7 |\n",
       "| 3 |  2847 |  7 |\n",
       "| ... | ... | ... |\n",
       "| 73515 | 10490 |  6 |\n",
       "| 73515 | 10588 |  9 |\n",
       "| 73515 | 11021 |  8 |\n",
       "| 73515 | 11111 |  8 |\n",
       "| 73515 | 11241 |  8 |\n",
       "| 73515 | 11411 |  5 |\n",
       "| 73515 | 11701 |  7 |\n",
       "| 73515 | 11741 |  9 |\n",
       "| 73515 | 11751 |  6 |\n",
       "| 73515 | 11757 |  9 |\n",
       "| 73515 | 11759 |  8 |\n",
       "| 73515 | 11837 |  9 |\n",
       "| 73515 | 12031 |  8 |\n",
       "| 73515 | 12113 | 10 |\n",
       "| 73515 | 12115 | 10 |\n",
       "| 73515 | 12293 |  8 |\n",
       "| 73515 | 12413 |  9 |\n",
       "| 73515 | 12445 |  8 |\n",
       "| 73515 | 12461 |  7 |\n",
       "| 73515 | 12967 |  7 |\n",
       "| 73515 | 13161 |  8 |\n",
       "| 73515 | 13331 |  9 |\n",
       "| 73515 | 13599 |  7 |\n",
       "| 73515 | 13659 |  8 |\n",
       "| 73515 | 14345 |  7 |\n",
       "| 73515 | 16512 |  7 |\n",
       "| 73515 | 17187 |  9 |\n",
       "| 73515 | 22145 | 10 |\n",
       "| 73516 |   790 |  9 |\n",
       "| 73516 |  8074 |  9 |\n",
       "\n"
      ],
      "text/plain": [
       "        user_id anime_id rating\n",
       "1       1        8074    10    \n",
       "2       1       11617    10    \n",
       "3       1       11757    10    \n",
       "4       1       15451    10    \n",
       "5       2       11771    10    \n",
       "6       3          20     8    \n",
       "7       3         154     6    \n",
       "8       3         170     9    \n",
       "9       3         199    10    \n",
       "10      3         225     9    \n",
       "11      3         341     6    \n",
       "12      3         430     7    \n",
       "13      3         527     7    \n",
       "14      3         552     7    \n",
       "15      3         813    10    \n",
       "16      3        1119     7    \n",
       "17      3        1121     7    \n",
       "18      3        1122     7    \n",
       "19      3        1132     8    \n",
       "20      3        1292     6    \n",
       "21      3        1313     8    \n",
       "22      3        1526     7    \n",
       "23      3        1535    10    \n",
       "24      3        1564     7    \n",
       "25      3        1689     8    \n",
       "26      3        1764     6    \n",
       "27      3        1943     8    \n",
       "28      3        2201     7    \n",
       "29      3        2404     7    \n",
       "30      3        2847     7    \n",
       "...     ...     ...      ...   \n",
       "6337212 73515   10490     6    \n",
       "6337213 73515   10588     9    \n",
       "6337214 73515   11021     8    \n",
       "6337215 73515   11111     8    \n",
       "6337216 73515   11241     8    \n",
       "6337217 73515   11411     5    \n",
       "6337218 73515   11701     7    \n",
       "6337219 73515   11741     9    \n",
       "6337220 73515   11751     6    \n",
       "6337221 73515   11757     9    \n",
       "6337222 73515   11759     8    \n",
       "6337223 73515   11837     9    \n",
       "6337224 73515   12031     8    \n",
       "6337225 73515   12113    10    \n",
       "6337226 73515   12115    10    \n",
       "6337227 73515   12293     8    \n",
       "6337228 73515   12413     9    \n",
       "6337229 73515   12445     8    \n",
       "6337230 73515   12461     7    \n",
       "6337231 73515   12967     7    \n",
       "6337232 73515   13161     8    \n",
       "6337233 73515   13331     9    \n",
       "6337234 73515   13599     7    \n",
       "6337235 73515   13659     8    \n",
       "6337236 73515   14345     7    \n",
       "6337237 73515   16512     7    \n",
       "6337238 73515   17187     9    \n",
       "6337239 73515   22145    10    \n",
       "6337240 73516     790     9    \n",
       "6337241 73516    8074     9    "
      ]
     },
     "metadata": {},
     "output_type": "display_data"
    }
   ],
   "source": [
    "new_ratings"
   ]
  },
  {
   "cell_type": "code",
   "execution_count": 58,
   "metadata": {},
   "outputs": [],
   "source": [
    "tv_anime_user_ratings <- filter(new_ratings, anime_id %in% tv_anime$anime_id)"
   ]
  },
  {
   "cell_type": "code",
   "execution_count": 59,
   "metadata": {},
   "outputs": [
    {
     "data": {
      "text/html": [
       "<table class=\"dataframe\">\n",
       "<caption>A data.frame: 1 × 1</caption>\n",
       "<thead>\n",
       "\t<tr><th scope=col>n</th></tr>\n",
       "\t<tr><th scope=col>&lt;int&gt;</th></tr>\n",
       "</thead>\n",
       "<tbody>\n",
       "\t<tr><td>4364294</td></tr>\n",
       "</tbody>\n",
       "</table>\n"
      ],
      "text/latex": [
       "A data.frame: 1 × 1\n",
       "\\begin{tabular}{l}\n",
       " n\\\\\n",
       " <int>\\\\\n",
       "\\hline\n",
       "\t 4364294\\\\\n",
       "\\end{tabular}\n"
      ],
      "text/markdown": [
       "\n",
       "A data.frame: 1 × 1\n",
       "\n",
       "| n &lt;int&gt; |\n",
       "|---|\n",
       "| 4364294 |\n",
       "\n"
      ],
      "text/plain": [
       "  n      \n",
       "1 4364294"
      ]
     },
     "metadata": {},
     "output_type": "display_data"
    }
   ],
   "source": [
    "count(tv_anime_user_ratings)"
   ]
  },
  {
   "cell_type": "code",
   "execution_count": 60,
   "metadata": {},
   "outputs": [
    {
     "data": {
      "text/html": [
       "<table class=\"dataframe\">\n",
       "<caption>A data.frame: 6 × 3</caption>\n",
       "<thead>\n",
       "\t<tr><th></th><th scope=col>user_id</th><th scope=col>anime_id</th><th scope=col>rating</th></tr>\n",
       "\t<tr><th></th><th scope=col>&lt;int&gt;</th><th scope=col>&lt;int&gt;</th><th scope=col>&lt;int&gt;</th></tr>\n",
       "</thead>\n",
       "<tbody>\n",
       "\t<tr><th scope=row>1</th><td>1</td><td> 8074</td><td>10</td></tr>\n",
       "\t<tr><th scope=row>2</th><td>1</td><td>11617</td><td>10</td></tr>\n",
       "\t<tr><th scope=row>3</th><td>1</td><td>11757</td><td>10</td></tr>\n",
       "\t<tr><th scope=row>4</th><td>1</td><td>15451</td><td>10</td></tr>\n",
       "\t<tr><th scope=row>5</th><td>2</td><td>11771</td><td>10</td></tr>\n",
       "\t<tr><th scope=row>6</th><td>3</td><td>   20</td><td> 8</td></tr>\n",
       "</tbody>\n",
       "</table>\n"
      ],
      "text/latex": [
       "A data.frame: 6 × 3\n",
       "\\begin{tabular}{r|lll}\n",
       "  & user\\_id & anime\\_id & rating\\\\\n",
       "  & <int> & <int> & <int>\\\\\n",
       "\\hline\n",
       "\t1 & 1 &  8074 & 10\\\\\n",
       "\t2 & 1 & 11617 & 10\\\\\n",
       "\t3 & 1 & 11757 & 10\\\\\n",
       "\t4 & 1 & 15451 & 10\\\\\n",
       "\t5 & 2 & 11771 & 10\\\\\n",
       "\t6 & 3 &    20 &  8\\\\\n",
       "\\end{tabular}\n"
      ],
      "text/markdown": [
       "\n",
       "A data.frame: 6 × 3\n",
       "\n",
       "| <!--/--> | user_id &lt;int&gt; | anime_id &lt;int&gt; | rating &lt;int&gt; |\n",
       "|---|---|---|---|\n",
       "| 1 | 1 |  8074 | 10 |\n",
       "| 2 | 1 | 11617 | 10 |\n",
       "| 3 | 1 | 11757 | 10 |\n",
       "| 4 | 1 | 15451 | 10 |\n",
       "| 5 | 2 | 11771 | 10 |\n",
       "| 6 | 3 |    20 |  8 |\n",
       "\n"
      ],
      "text/plain": [
       "  user_id anime_id rating\n",
       "1 1        8074    10    \n",
       "2 1       11617    10    \n",
       "3 1       11757    10    \n",
       "4 1       15451    10    \n",
       "5 2       11771    10    \n",
       "6 3          20     8    "
      ]
     },
     "metadata": {},
     "output_type": "display_data"
    }
   ],
   "source": [
    "head(tv_anime_user_ratings)"
   ]
  },
  {
   "cell_type": "code",
   "execution_count": 61,
   "metadata": {},
   "outputs": [],
   "source": [
    "write.csv(tv_anime, \"C:\\\\Users\\\\Tarun Luthra\\\\Desktop\\\\Anime recommendation system\\\\Tidy data\\\\TV Animes.csv\",row.names = FALSE)"
   ]
  },
  {
   "cell_type": "code",
   "execution_count": 62,
   "metadata": {},
   "outputs": [],
   "source": [
    "write.csv(tv_anime_user_ratings, \"C:\\\\Users\\\\Tarun Luthra\\\\Desktop\\\\Anime recommendation system\\\\Tidy data\\\\TV User Ratings.csv\", row.names = FALSE)"
   ]
  },
  {
   "cell_type": "code",
   "execution_count": null,
   "metadata": {},
   "outputs": [],
   "source": []
  }
 ],
 "metadata": {
  "kernelspec": {
   "display_name": "R",
   "language": "R",
   "name": "ir"
  },
  "language_info": {
   "codemirror_mode": "r",
   "file_extension": ".r",
   "mimetype": "text/x-r-source",
   "name": "R",
   "pygments_lexer": "r",
   "version": "4.0.3"
  }
 },
 "nbformat": 4,
 "nbformat_minor": 4
}
